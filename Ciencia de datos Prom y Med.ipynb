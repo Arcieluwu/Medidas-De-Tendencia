{
 "cells": [
  {
   "cell_type": "code",
   "execution_count": 5,
   "id": "e8039c75",
   "metadata": {},
   "outputs": [
    {
     "name": "stdout",
     "output_type": "stream",
     "text": [
      "190.25935864000797\n"
     ]
    }
   ],
   "source": [
    "archivo = open(\"/home/estudiante/Escritorio/omegaCen.dat\", \"r\")\n",
    "vals = []\n",
    "archivo.readline()\n",
    "\n",
    "for lin in archivo:\n",
    "    data = lin.split()[8]\n",
    "    if data != '\"\"':\n",
    "        vals.append(float(data))\n",
    "archivo.close()\n",
    "\n",
    "def promedio (vals):\n",
    "    \"\"\"\n",
    "    Calcula el promedio de una lista de numeros.\n",
    "\n",
    "    Parámetros\n",
    "    ----------\n",
    "    vals: lista\n",
    "    » Lista con números.\n",
    "\n",
    "    Retorna\n",
    "    ---------\n",
    "    promedio: float\n",
    "    » El promedio aritmetico de los números.\n",
    "    \"\"\"\n",
    "    return sum(vals) / len(vals)\n",
    "\n",
    "print (promedio(vals))"
   ]
  },
  {
   "cell_type": "code",
   "execution_count": 8,
   "id": "4c418191",
   "metadata": {},
   "outputs": [
    {
     "name": "stdout",
     "output_type": "stream",
     "text": [
      "230.19058\n"
     ]
    }
   ],
   "source": [
    "def mediana (vals):\n",
    "    \"\"\"\n",
    "    Calcula la mediana de los datos de una lista de números.\n",
    "    \n",
    "    Parámetros\n",
    "    ----------\n",
    "    vals: lista\n",
    "    » Lista con números.\n",
    "    lista = lista\n",
    "    » Lista de datos ordenados.\n",
    "    largo = float\n",
    "    » Cantidad de datos en la lista.\n",
    "    \n",
    "    Retorna\n",
    "    ---------\n",
    "    mediana: float\n",
    "    » Calcula la mediana de los datos.\n",
    "    \"\"\"\n",
    "    \n",
    "    lista = sorted(vals)\n",
    "    largo = len(vals)\n",
    "    \n",
    "    if largo % 2 == 1:\n",
    "        mediana = lista[largo // 2]\n",
    "    else:\n",
    "        centro1 = lista[largo // 2 - 1]\n",
    "        centro2 = lista[largo // 2]\n",
    "        mediana = (centro1 + centro2) / 2.0\n",
    "    \n",
    "    return mediana\n",
    "\n",
    "print (mediana(vals))"
   ]
  }
 ],
 "metadata": {
  "kernelspec": {
   "display_name": "Python 3 (ipykernel)",
   "language": "python",
   "name": "python3"
  },
  "language_info": {
   "codemirror_mode": {
    "name": "ipython",
    "version": 3
   },
   "file_extension": ".py",
   "mimetype": "text/x-python",
   "name": "python",
   "nbconvert_exporter": "python",
   "pygments_lexer": "ipython3",
   "version": "3.8.10"
  }
 },
 "nbformat": 4,
 "nbformat_minor": 5
}
