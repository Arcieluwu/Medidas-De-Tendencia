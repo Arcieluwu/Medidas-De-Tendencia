{
 "cells": [
  {
   "cell_type": "code",
   "execution_count": 2,
   "id": "e8039c75",
   "metadata": {},
   "outputs": [
    {
     "name": "stdout",
     "output_type": "stream",
     "text": [
      "190.25935864000797\n"
     ]
    }
   ],
   "source": [
    "archivo = open(\"omegaCen.dat\", \"r\")\n",
    "vals = []\n",
    "archivo.readline()\n",
    "\n",
    "for lin in archivo:\n",
    "    data = lin.split()[8]\n",
    "    if data != '\"\"':\n",
    "        vals.append(float(data))\n",
    "archivo.close()\n",
    "\n",
    "def promedio (vals):\n",
    "    \"\"\"\n",
    "    Calcula el promedio de una lista de numeros.\n",
    "\n",
    "    Parámetros\n",
    "    ----------\n",
    "    vals: lista\n",
    "    » Lista con números.\n",
    "\n",
    "    Retorna\n",
    "    ---------\n",
    "    promedio: float\n",
    "    » El promedio aritmetico de los números.\n",
    "    \"\"\"\n",
    "    return sum(vals) / len(vals)\n",
    "\n",
    "print (promedio(vals))"
   ]
  },
  {
   "cell_type": "code",
   "execution_count": 58,
   "id": "4c418191",
   "metadata": {},
   "outputs": [
    {
     "name": "stdout",
     "output_type": "stream",
     "text": [
      "230.19058\n"
     ]
    }
   ],
   "source": [
    "def mediana (vals):\n",
    "    \"\"\"\n",
    "    Calcula la mediana de los datos de una lista de números.\n",
    "    \n",
    "    Parámetros\n",
    "    ----------\n",
    "    vals: lista\n",
    "    » Lista con números.\n",
    "    lista = lista\n",
    "    » Lista de datos ordenados.\n",
    "    largo = float\n",
    "    » Cantidad de datos en la lista.\n",
    "    \n",
    "    Retorna\n",
    "    ---------\n",
    "    mediana: float\n",
    "    » Calcula la mediana de los datos.\n",
    "    \"\"\"\n",
    "    \n",
    "    lista = sorted(vals)\n",
    "    largo = len(vals)\n",
    "    \n",
    "    if largo % 2 == 1:\n",
    "        mediana = lista[largo // 2]\n",
    "    else:\n",
    "        centro1 = lista[largo // 2 - 1]\n",
    "        centro2 = lista[largo // 2]\n",
    "        mediana = (centro1 + centro2) / 2\n",
    "    \n",
    "    return mediana\n",
    "\n",
    "print (mediana(vals))"
   ]
  },
  {
   "cell_type": "code",
   "execution_count": 9,
   "id": "6264ccbe",
   "metadata": {},
   "outputs": [
    {
     "name": "stdout",
     "output_type": "stream",
     "text": [
      "-31.987946\n"
     ]
    }
   ],
   "source": [
    "def moda(vals):\n",
    "    \"\"\"\n",
    "    Calcula la moda de los datos de una lista de números.\n",
    "\n",
    "    Parámetros\n",
    "    ----------\n",
    "    vals: lista\n",
    "    » Lista con números de la cual se calculará la moda.\n",
    "\n",
    "    Retorna\n",
    "    ---------\n",
    "    moda: lista\n",
    "    » Una lista que contiene los valores que son considerados modas en los datos.\n",
    "\n",
    "    Variables\n",
    "    ----------\n",
    "    categorias: lista\n",
    "    » Una lista que almacena las categorías únicas presentes en la lista de valores.\n",
    "    \n",
    "    cuentas: lista\n",
    "    » Una lista que almacena la frecuencia de cada categoría en la lista de valores.\n",
    "    \n",
    "    i_max: integer\n",
    "    » Índice del valor máximo en la lista de frecuencias.\n",
    "    \n",
    "    val_max: integer\n",
    "    » Valor máximo de frecuencia encontrado en la lista de frecuencias.\n",
    "    \"\"\"\n",
    "    categorias = []\n",
    "    for v in vals:\n",
    "        if v not in categorias:\n",
    "            categorias.append(v)\n",
    "    cuentas = []\n",
    "    for c in categorias:\n",
    "        n = 0  # Cero elementos en esa categoría\n",
    "        for val in vals:\n",
    "            if val == c:\n",
    "                n = n + 1\n",
    "        cuentas.append(n)\n",
    "\n",
    "    i_max = 0\n",
    "    val_max = cuentas[0]\n",
    "    for i in range(1, len(cuentas)):  # El rango debe comenzar en 1\n",
    "        if cuentas[i] > val_max:\n",
    "            i_max = i \n",
    "            val_max = cuentas[i]\n",
    "    moda = categorias[i_max]\n",
    "    return moda\n",
    "print (moda(vals))"
   ]
  },
  {
   "cell_type": "code",
   "execution_count": 61,
   "id": "d40a16f8",
   "metadata": {},
   "outputs": [
    {
     "name": "stdout",
     "output_type": "stream",
     "text": [
      "9143.106873391367\n"
     ]
    }
   ],
   "source": [
    "from math import sqrt #Importamos la raíz desde la libreria math.\n",
    "def varianza (vals):\n",
    "    \"\"\"\n",
    "    Calcula la varianza.\n",
    "\n",
    "    Parámetros\n",
    "    ----------\n",
    "    vals: lista\n",
    "    » Lista con números de la cual se calculará la varianza.\n",
    "\n",
    "    Retorna\n",
    "    ---------\n",
    "    Var: float\n",
    "    » Valor de punto flotante donde se muestra la varianza.\n",
    "\n",
    "    Variables\n",
    "    ----------\n",
    "    suma: variable\n",
    "    » sumatoria de la resta entre un valor y la suma de todos los datos, dividido\n",
    "    en la cantidad de datos y todo esto elevado al cuadrado.\n",
    "    \"\"\"\n",
    "    suma = sum((x - (sum(vals) / len(vals)))**2 for x in vals)\n",
    "    var = suma/len(vals)\n",
    "    return var\n",
    "\n",
    "print (varianza(vals))"
   ]
  },
  {
   "cell_type": "code",
   "execution_count": 63,
   "id": "45e98b14",
   "metadata": {},
   "outputs": [
    {
     "name": "stdout",
     "output_type": "stream",
     "text": [
      "95.61959461005556\n"
     ]
    }
   ],
   "source": [
    "def desviacion (vals):\n",
    "    \"\"\"\n",
    "    Calcula la desviación estándar de los datos.\n",
    "    \n",
    "    Parámetros\n",
    "    ----------\n",
    "    vals: lista\n",
    "    » Lista con números.\n",
    "    \n",
    "    Retorna\n",
    "    ---------\n",
    "    desv: float\n",
    "    » La raíz de la varianza.\n",
    "    \"\"\"\n",
    "    desv = sqrt(varianza(vals))\n",
    "    return desv\n",
    "print (desviacion(vals))"
   ]
  },
  {
   "cell_type": "code",
   "execution_count": 64,
   "id": "f81d6eb4",
   "metadata": {},
   "outputs": [
    {
     "name": "stdout",
     "output_type": "stream",
     "text": [
      "9.885529999999989\n"
     ]
    }
   ],
   "source": [
    "def MAD (vals):\n",
    "    \"\"\"\n",
    "    Calcula la Desviación Absoluta Media (MAD) de una lista de valores.\n",
    "\n",
    "    Parámetros\n",
    "    ----------\n",
    "    vals: lista de números\n",
    "    » Lista de números de la cual se calculará la MAD.\n",
    "\n",
    "    Retorna\n",
    "    ---------\n",
    "    mad: float\n",
    "    » La Desviación Absoluta Media de los valores en la lista.\n",
    "\n",
    "    Variables\n",
    "    ----------\n",
    "    mediana_valor: float\n",
    "    » La mediana de los valores en la lista, que se utilizará como punto de referencia.\n",
    "    datos: lista de números\n",
    "    » Una lista que contendrá las diferencias absolutas entre cada valor y la mediana.\n",
    "    lista: lista de números\n",
    "    » Una lista ordenada que contiene las diferencias absolutas.\n",
    "    longitud: int\n",
    "    » La cantidad de elementos en la lista 'datos'.\n",
    "    mad: float\n",
    "    » La Desviación Absoluta Media calculada.\n",
    "    \"\"\"\n",
    "    mediana_valor = mediana(vals)\n",
    "    datos = []\n",
    "    for num in vals:\n",
    "        datos_mad = abs(num - mediana_valor)\n",
    "        datos.append(datos_mad)\n",
    "        \n",
    "    lista = sorted(datos)\n",
    "    longitud = len(datos)\n",
    "    \n",
    "    if longitud % 2 == 1:\n",
    "        mad = lista[longitud // 2]\n",
    "    else:\n",
    "        centro1 = lista[longitud // 2 - 1]\n",
    "        centro2 = lista[longitud // 2]\n",
    "        mad = (centro1 + centro2) / 2\n",
    "    \n",
    "    return mad\n",
    "\n",
    "print (MAD(vals))"
   ]
  },
  {
   "cell_type": "code",
   "execution_count": 65,
   "id": "fc3ce33f",
   "metadata": {},
   "outputs": [
    {
     "name": "stdout",
     "output_type": "stream",
     "text": [
      "1192\n"
     ]
    }
   ],
   "source": [
    "def IQR (vals):\n",
    "    \"\"\"\n",
    "    Calcula el Rango Intercuartil (IQR) de una lista de valores.\n",
    "\n",
    "    Parámetros\n",
    "    ----------\n",
    "    vals: lista de números\n",
    "    » Lista de números de la cual se calculará el IQR.\n",
    "\n",
    "    Retorna\n",
    "    ---------\n",
    "    iqr: float\n",
    "    » El Rango Intercuartil (IQR) de los valores en la lista.\n",
    "\n",
    "    Variables\n",
    "    ----------\n",
    "    datos_ordenados: lista de números\n",
    "    » Una lista de valores ordenados en orden ascendente.\n",
    "    longitud: int\n",
    "    » La cantidad de elementos en la lista 'datos_ordenados'.\n",
    "    Q1: int\n",
    "    » El primer cuartil.\n",
    "    Q3: int\n",
    "    » El tercer cuartil.\n",
    "    iqr: float\n",
    "    » El Rango Intercuartil calculado al restarle el primer cuartil al tercer cuartil.\n",
    "    \"\"\"\n",
    "    datos_ordenados = sorted(vals)\n",
    "    longitud = len(datos_ordenados)\n",
    "    \n",
    "    if longitud // 4 == 0:\n",
    "        Q1 = longitud // 4\n",
    "        Q3 = Q1 * 1\n",
    "    else:\n",
    "        Q1 = (longitud + 1) //4\n",
    "        Q3 = Q1 * 3\n",
    "    \n",
    "    iqr = Q3 - Q1\n",
    "    return iqr\n",
    "\n",
    "print (IQR(vals))"
   ]
  }
 ],
 "metadata": {
  "kernelspec": {
   "display_name": "Python 3 (ipykernel)",
   "language": "python",
   "name": "python3"
  },
  "language_info": {
   "codemirror_mode": {
    "name": "ipython",
    "version": 3
   },
   "file_extension": ".py",
   "mimetype": "text/x-python",
   "name": "python",
   "nbconvert_exporter": "python",
   "pygments_lexer": "ipython3",
   "version": "3.8.10"
  }
 },
 "nbformat": 4,
 "nbformat_minor": 5
}
