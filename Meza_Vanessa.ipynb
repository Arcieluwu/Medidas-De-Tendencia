{
 "cells": [
  {
   "cell_type": "markdown",
   "id": "1f474d49",
   "metadata": {},
   "source": [
    "# Parte I: Cúmulo de Virgo\n",
    "### El archivo \"cumulo_de_Virgo.dat\" contiene una tabla con información de las 160 galaxias más grandes del cúmulo de galaxias de Virgo."
   ]
  },
  {
   "cell_type": "code",
   "execution_count": null,
   "id": "032fdef4",
   "metadata": {},
   "outputs": [],
   "source": [
    "#Leemos el archivo correspondiente.\n",
    "archivo = open(\"cumulo_de_Virgo.dat\", \"r\")\n",
    "for _ in range(1): #Nos saltamos la primera línea que no contiene información necesaria.\n",
    "    archivo.readline()\n",
    "    \n",
    "Type = []\n",
    "Size = []\n",
    "RV = []\n",
    "for lin in archivo:\n",
    "    palabras = lin.split()\n",
    "#Verificamos la longitud de palabras para separar correctamente.\n",
    "    if len(palabras) >= 9:\n",
    "        tipo = palabras[6]\n",
    "        tamaño = palabras[8] #Tamaño en Kilo Lightyear.\n",
    "        rv = palabras[9] \n",
    "        Type.append(tipo)\n",
    "        Size.append(tamaño)\n",
    "        RV.append(rv)\n",
    "archivo.close()"
   ]
  },
  {
   "cell_type": "code",
   "execution_count": 3,
   "id": "3c97066f",
   "metadata": {},
   "outputs": [
    {
     "name": "stdout",
     "output_type": "stream",
     "text": [
      "El promedio de la lista es 4.222222222222222\n",
      "5\n",
      "3.0617283950617282\n",
      "1.7497795275581802\n",
      "6\n",
      "[6]\n"
     ]
    }
   ],
   "source": [
    "from Estadística import promedio, mediana, varianza, desviacion, moda_uno, moda\n",
    "mi_lista = [1, 2, 3, 4, 5, 5, 6, 6, 6]\n",
    "resultado = promedio(mi_lista)\n",
    "print(\"El promedio de la lista es\", resultado)\n",
    "miau = mediana(mi_lista)\n",
    "print (miau)\n",
    "print (varianza(mi_lista))\n",
    "print (desviacion(mi_lista))\n",
    "print (moda_uno(mi_lista))\n",
    "print(moda(mi_lista))"
   ]
  }
 ],
 "metadata": {
  "kernelspec": {
   "display_name": "Python 3 (ipykernel)",
   "language": "python",
   "name": "python3"
  },
  "language_info": {
   "codemirror_mode": {
    "name": "ipython",
    "version": 3
   },
   "file_extension": ".py",
   "mimetype": "text/x-python",
   "name": "python",
   "nbconvert_exporter": "python",
   "pygments_lexer": "ipython3",
   "version": "3.8.10"
  }
 },
 "nbformat": 4,
 "nbformat_minor": 5
}
